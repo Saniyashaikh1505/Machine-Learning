{
  "nbformat": 4,
  "nbformat_minor": 0,
  "metadata": {
    "colab": {
      "name": "Column Transformer.ipynb",
      "provenance": [],
      "collapsed_sections": [],
      "authorship_tag": "ABX9TyPSDi5aW8LKQnH+lxTgFluh",
      "include_colab_link": true
    },
    "kernelspec": {
      "name": "python3",
      "display_name": "Python 3"
    },
    "language_info": {
      "name": "python"
    }
  },
  "cells": [
    {
      "cell_type": "markdown",
      "metadata": {
        "id": "view-in-github",
        "colab_type": "text"
      },
      "source": [
        "<a href=\"https://colab.research.google.com/github/Saniyashaikh1505/Machine-Learning/blob/main/Column_Transformer.ipynb\" target=\"_parent\"><img src=\"https://colab.research.google.com/assets/colab-badge.svg\" alt=\"Open In Colab\"/></a>"
      ]
    },
    {
      "cell_type": "code",
      "execution_count": 75,
      "metadata": {
        "id": "0XZ84BH_U6wp"
      },
      "outputs": [],
      "source": [
        "import pandas as pd\n",
        "import numpy as np"
      ]
    },
    {
      "cell_type": "code",
      "source": [
        "from sklearn.impute import SimpleImputer #for handling missing values .... All missing values are replaced by the mean.\n",
        "from sklearn.preprocessing import OneHotEncoder\n",
        "from sklearn.preprocessing import OrdinalEncoder"
      ],
      "metadata": {
        "id": "N0MHCYs7VOAl"
      },
      "execution_count": 76,
      "outputs": []
    },
    {
      "cell_type": "code",
      "source": [
        "df=pd.read_csv('/content/covid_toy.csv')"
      ],
      "metadata": {
        "id": "fJXruBRRV2c9"
      },
      "execution_count": 77,
      "outputs": []
    },
    {
      "cell_type": "code",
      "source": [
        "df"
      ],
      "metadata": {
        "id": "_WQAP001V7WY"
      },
      "execution_count": null,
      "outputs": []
    },
    {
      "cell_type": "code",
      "source": [
        "#for checking missing values\n",
        "df.isnull().sum()"
      ],
      "metadata": {
        "id": "wV3X5zIBWmhx"
      },
      "execution_count": null,
      "outputs": []
    },
    {
      "cell_type": "code",
      "source": [
        "from sklearn.model_selection import train_test_split\n",
        "X_train,X_test,Y_train,Y_test =train_test_split(df.drop(columns=['has_covid']) , df['has_covid'],\n",
        "                                                test_size=0.2)"
      ],
      "metadata": {
        "id": "2WtSB7KFXaaD"
      },
      "execution_count": 82,
      "outputs": []
    },
    {
      "cell_type": "code",
      "source": [
        "#Handle Missing Values of fever column\n",
        "si=SimpleImputer()\n",
        "X_train_fever = si.fit_transform(X_train[['fever']])\n",
        "X_test_fever =si.transform(X_test[['fever']])\n",
        "\n",
        "X_train_fever"
      ],
      "metadata": {
        "id": "WY1P1Hl5YYzz"
      },
      "execution_count": null,
      "outputs": []
    },
    {
      "cell_type": "code",
      "source": [
        "#ordinalcoding ->cough\n",
        "oe=OrdinalEncoder(categories=[['Mild','Strong']])\n",
        "X_train_cough = oe.fit_transform(X_train[['cough']])\n",
        "\n",
        "X_test_cough=oe.transform(X_test[['cough']])\n",
        "\n",
        "X_train_cough"
      ],
      "metadata": {
        "id": "iO0JmvGRaceF"
      },
      "execution_count": null,
      "outputs": []
    },
    {
      "cell_type": "code",
      "source": [
        "#onehotencoding ->gender,city\n",
        "ohe=OneHotEncoder(drop='first' ,sparse=False)\n",
        "\n",
        "X_train_gender_city=ohe.fit_transform(X_train[['gender','city']])\n",
        "X_test_gender_city=ohe.transform(X_test[['gender','city']])\n",
        "\n",
        "X_train_gender_city.shape"
      ],
      "metadata": {
        "colab": {
          "base_uri": "https://localhost:8080/"
        },
        "id": "aIYdZZiqchwN",
        "outputId": "c99d9fdd-0f39-458d-8525-210686446acf"
      },
      "execution_count": 86,
      "outputs": [
        {
          "output_type": "execute_result",
          "data": {
            "text/plain": [
              "(80, 4)"
            ]
          },
          "metadata": {},
          "execution_count": 86
        }
      ]
    },
    {
      "cell_type": "code",
      "source": [
        "#extracting age\n",
        "X_train_age=X_train.drop(columns=['gender','fever','cough','city']).values\n",
        "\n",
        "X_test_age=X_test.drop(columns=['gender','fever','cough','city']).values\n",
        "\n",
        "X_train_age"
      ],
      "metadata": {
        "id": "Ii5ldySaeEuK"
      },
      "execution_count": null,
      "outputs": []
    },
    {
      "cell_type": "code",
      "source": [
        "#concatenating\n",
        "#X_train_transformed = np.concatenate((X_train_age,X_train_fever,X_train_gender_city,X_train_cough),axis=1)\n",
        "#X_test_transformed = np.concatenate((X_test_age,X_test_fever,X_test_gender_city,X_test_cough),axis=1)\n",
        "#X_train_transformed\n",
        "                                                                                                 "
      ],
      "metadata": {
        "id": "Hlwy62YnexN1"
      },
      "execution_count": 53,
      "outputs": []
    },
    {
      "cell_type": "code",
      "source": [
        "#Column transformer\n",
        "from sklearn.compose import ColumnTransformer\n",
        "\n",
        "transformer=ColumnTransformer(transformers=[\n",
        "                ('tnf1',SimpleImputer(),['fever']),\n",
        "                ('tnf2',OrdinalEncoder(categories=[['Mild','Strong']]),['cough']),\n",
        "                ('tnf3',OneHotEncoder(drop='first' ,sparse=False),['gender','city']),\n",
        "] ,remainder='passthrough')"
      ],
      "metadata": {
        "id": "SN56-thngqD_"
      },
      "execution_count": 88,
      "outputs": []
    },
    {
      "cell_type": "code",
      "source": [
        "transformer.fit_transform(X_train).shape"
      ],
      "metadata": {
        "colab": {
          "base_uri": "https://localhost:8080/"
        },
        "id": "G_jdc2OxmoOz",
        "outputId": "9493fc00-f224-44fa-f853-95b32cb32231"
      },
      "execution_count": 90,
      "outputs": [
        {
          "output_type": "execute_result",
          "data": {
            "text/plain": [
              "(80, 7)"
            ]
          },
          "metadata": {},
          "execution_count": 90
        }
      ]
    },
    {
      "cell_type": "code",
      "source": [
        "transformer.transform(X_test).shape"
      ],
      "metadata": {
        "colab": {
          "base_uri": "https://localhost:8080/"
        },
        "id": "4eS0ljhfoqCS",
        "outputId": "89ba6fe9-3e7a-4ea2-d533-bd06f912558c"
      },
      "execution_count": 91,
      "outputs": [
        {
          "output_type": "execute_result",
          "data": {
            "text/plain": [
              "(20, 7)"
            ]
          },
          "metadata": {},
          "execution_count": 91
        }
      ]
    }
  ]
}